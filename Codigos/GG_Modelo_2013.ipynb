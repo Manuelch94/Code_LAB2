{
 "cells": [
  {
   "cell_type": "code",
   "execution_count": null,
   "metadata": {},
   "outputs": [],
   "source": [
    "import numpy as np\n",
    "import matplotlib.pyplot as plt\n",
    "from matplotlib import ticker, cm\n",
    "from matplotlib.cm import get_cmap\n",
    "from numpy import shape\n",
    "import seaborn as sns\n",
    "import xarray as xr\n",
    "from calendar import monthrange\n",
    "import matplotlib.dates as mdates\n",
    "import matplotlib.font_manager"
   ]
  },
  {
   "cell_type": "code",
   "execution_count": null,
   "metadata": {},
   "outputs": [],
   "source": [
    "%cd .."
   ]
  },
  {
   "cell_type": "code",
   "execution_count": null,
   "metadata": {},
   "outputs": [],
   "source": [
    "%cd 2013data_modelo/"
   ]
  },
  {
   "cell_type": "code",
   "execution_count": null,
   "metadata": {},
   "outputs": [],
   "source": [
    "import datetime\n",
    "start = datetime.datetime.strptime(\"01-01-1981\", \"%d-%m-%Y\")\n",
    "end   = datetime.datetime.strptime(\"01-01-1982\", \"%d-%m-%Y\")\n",
    "date_generated1981 = [start + datetime.timedelta(days=x) for x in range(0, (end-start).days)]\n",
    "\n",
    "start = datetime.datetime.strptime(\"01-01-2013\", \"%d-%m-%Y\")\n",
    "end   = datetime.datetime.strptime(\"01-01-2014\", \"%d-%m-%Y\")\n",
    "date_generated2013 = [start + datetime.timedelta(days=x) for x in range(0, (end-start).days)]\n"
   ]
  },
  {
   "cell_type": "code",
   "execution_count": null,
   "metadata": {},
   "outputs": [],
   "source": [
    "zonal_barbados = np.load('zonal_barbados_2013.npy')\n",
    "zonal_guadalupe = np.load('zonal_guadalupe_2013.npy') \n",
    "zonal_sanandres = np.load('zonal_sanandres_2013.npy') \n",
    "\n",
    "meridional_barbados = np.load('meridional_barbados_2013.npy')\n",
    "meridional_guadalupe = np.load('meridional_guadalupe_2013.npy') \n",
    "meridional_sanandres = np.load('meridional_sanandres_2013.npy') \n",
    "\n",
    "temperatura_barbados = np.load('temperatura_barbados_2013.npy')\n",
    "temperatura_guadalupe = np.load('temperatura_guadalupe_2013.npy') \n",
    "temperatura_sanandres = np.load('temperatura_sanandres_2013.npy') \n",
    "\n",
    "q_barbados = np.load('q_barbados_2013.npy')\n",
    "q_guadalupe = np.load('q_guadalupe_2013.npy') \n",
    "q_sanandres = np.load('q_sanandres_2013.npy') "
   ]
  },
  {
   "cell_type": "code",
   "execution_count": null,
   "metadata": {},
   "outputs": [],
   "source": []
  },
  {
   "cell_type": "code",
   "execution_count": null,
   "metadata": {},
   "outputs": [],
   "source": [
    "def graficar_Presion_vs_Var(titulo,variable,tipo,barra,guardar,año):\n",
    "    if barra == \"Greens\":\n",
    "        variable = ((variable)/(variable+1))*1000\n",
    "    if año == 1981:\n",
    "        año == 1981\n",
    "        t = date_generated1981\n",
    "    else:\n",
    "        año == 2013\n",
    "        t = date_generated2013   \n",
    "    \n",
    "    lista = [1000, 925, 850, 700, 500, 400, 300, 250, 200, 150, 100, 70,50,10]\n",
    "    x,y =np.meshgrid(t,lista)\n",
    "    \n",
    "    fig, ax = plt.subplots(figsize=(25,10), dpi =300)\n",
    "    \n",
    "    if tipo == 'magnitud':\n",
    "        clase = np.arange(0,50,2)\n",
    "    if tipo == \"vertical\":\n",
    "        clase= np.arange(-35,50,2) \n",
    "    if tipo ==\"humedad\":\n",
    "        clase= np.arange(0,25,2)\n",
    "    if tipo ==\"temperatura\":\n",
    "        clase= np.arange(-90,36,2)\n",
    "\n",
    "    \n",
    "    cs = ax.contourf(x,y,variable,clase, cmap=get_cmap(barra), extend=\"neither\")\n",
    "\n",
    "    fmt = mdates.DateFormatter('%b')\n",
    "    X = fig.gca().xaxis\n",
    "    X.set_major_formatter(fmt)\n",
    "    locator = mdates.MonthLocator()  \n",
    "    \n",
    "    \n",
    "    lista = np.array(lista)\n",
    "    cbar = fig.colorbar(cs, pad=0.01)\n",
    "    ax.set_yscale(\"log\")\n",
    "    \n",
    "    \n",
    "    ax.set_yticks([1000, 925,850, 700, 500, 400, 300, 250, 200, 150, 100, 70,50,10])\n",
    "    ax.set_yticklabels(lista.astype(int))\n",
    "\n",
    "    ax.set_yticks(ax.get_yticks()[:-1])\n",
    "    #remueve la etiqueta 925\n",
    "    ax.yaxis.get_major_ticks()[1].draw = lambda *args:None\n",
    "\n",
    "    cbar.ax.tick_params(labelsize=18) \n",
    "    plt.ylim(plt.ylim(70,1000)[::-1])\n",
    "    plt.gca().yaxis.set_minor_formatter(matplotlib.ticker.NullFormatter())\n",
    "\n",
    "    plt.title(titulo+\" \"+ str(año), fontsize= 22,fontweight=\"bold\")\n",
    "    plt.ylabel('Presión'+\"( hPa)\" , fontsize= 20)\n",
    "    plt.tick_params(axis = 'both', which = 'major', labelsize = 22)\n",
    "    plt.tight_layout()\n",
    "    plt.savefig(guardar+\".png\", dpi=300)\n",
    "#     plt.show()"
   ]
  },
  {
   "cell_type": "code",
   "execution_count": null,
   "metadata": {},
   "outputs": [],
   "source": [
    "def maxmin(var):\n",
    "    a=np.nanmin(var)\n",
    "    b=np.nanmax(var)\n",
    "    return a,b"
   ]
  },
  {
   "cell_type": "code",
   "execution_count": null,
   "metadata": {},
   "outputs": [],
   "source": [
    "def magnitud(zonal,meridional):\n",
    "    mag = np.sqrt((zonal**2)+(meridional**2))\n",
    "    return mag\n",
    "\n",
    "\n",
    "magBARB = magnitud(zonal_barbados,meridional_barbados)\n",
    "magGUAD = magnitud(zonal_guadalupe,meridional_guadalupe)\n",
    "magSAND = magnitud(zonal_sanandres,meridional_sanandres)"
   ]
  },
  {
   "cell_type": "code",
   "execution_count": null,
   "metadata": {},
   "outputs": [],
   "source": [
    "magBARB = magnitud(zonal_barbados,meridional_barbados)\n",
    "magGUAD = magnitud(zonal_guadalupe,meridional_guadalupe)\n",
    "magSAND = magnitud(zonal_sanandres,meridional_sanandres)"
   ]
  },
  {
   "cell_type": "code",
   "execution_count": null,
   "metadata": {},
   "outputs": [],
   "source": [
    "maxmin(magBARB),maxmin(magGUAD),maxmin(magSAND)"
   ]
  },
  {
   "cell_type": "code",
   "execution_count": null,
   "metadata": {},
   "outputs": [],
   "source": []
  },
  {
   "cell_type": "code",
   "execution_count": null,
   "metadata": {},
   "outputs": [],
   "source": [
    "%cd /media/cigefi/Datos/Manuel_Lab2/WRF/LAB2FINALS/Codigo_funcional/GRAFICOS_MODELO/2013_modelo/"
   ]
  },
  {
   "cell_type": "code",
   "execution_count": null,
   "metadata": {},
   "outputs": [],
   "source": [
    "graficar_Presion_vs_Var(\"Viento zonal (m/s) modelo, Barbados \",zonal_barbados,\"vertical\",\"jet\",\"zonalbarbados2013_modelo\",2013)\n",
    "graficar_Presion_vs_Var(\"Viento meridional (m/s) modelo, Barbados \",meridional_barbados,\"vertical\",\"jet\",\"meridionalbarbados2013_modelo\",2013)\n",
    "graficar_Presion_vs_Var(\"Humedad especifica (g/kg) modelo, Barbados \",q_barbados,\"humedad\",\"Greens\",\"humbarbados2013_modelo\",2013)\n",
    "graficar_Presion_vs_Var(\"Temperatura (℃) modelo, Barbados \",temperatura_barbados,\"temperatura\",\"coolwarm\",\"tempbarbados2013_modelo\",2013)\n",
    "\n",
    "graficar_Presion_vs_Var(\"Viento zonal (m/s) modelo, Guadalupe \",zonal_guadalupe,\"vertical\",\"jet\",\"zonalguadalupe2013_modelo\",2013)\n",
    "graficar_Presion_vs_Var(\"Viento Meridional (m/s) modelo, Guadalupe \",meridional_guadalupe,\"vertical\",\"jet\",\"meridionalguadalupe2013_modelo\",2013)\n",
    "graficar_Presion_vs_Var(\"Humedad especifica (g/kg) modelo, Guadalupe \",q_guadalupe,\"humedad\",\"Greens\",\"humguadalupe2013_modelo\",2013)\n",
    "graficar_Presion_vs_Var(\"Temperatura (℃) modelo, Guadalupe \",temperatura_guadalupe,\"temperatura\",\"coolwarm\",\"tempguadalupe2013_modelo\",2013)\n",
    "\n",
    "graficar_Presion_vs_Var(\"Viento zonal (m/s) modelo, San Andres\",zonal_sanandres,\"vertical\",\"jet\",\"zonalsanandres2013_modelo\",2013)\n",
    "graficar_Presion_vs_Var(\"Viento meridional (m/s) modelo, San Andres\",meridional_sanandres,\"vertical\",\"jet\",\"meridionalsanandres2013_modelo\",2013)\n",
    "graficar_Presion_vs_Var(\"Humedad especifica (g/kg) modelo, San Andres\",q_sanandres,\"humedad\",\"Greens\",\"humsanandres2013_modelo\",2013)\n",
    "graficar_Presion_vs_Var(\"Temperatura (℃) modelo, San Andres\",temperatura_sanandres,\"temperatura\",\"coolwarm\",\"tempsanandres2013_modelo\",2013)\n",
    "\n",
    "graficar_Presion_vs_Var(\"Magnitud viento (m/s) modelo , Barbados \",magBARB,\"magnitud\",\"jet\",\"magnitudbarbados2013_modelo\",2013)\n",
    "graficar_Presion_vs_Var(\"Magnitud viento (m/s) modelo , Guadalupe \",magGUAD,\"magnitud\",\"jet\",\"magnitudGuadalupe2013_modelo\",2013)\n",
    "graficar_Presion_vs_Var(\"Magnitud viento (m/s) modelo , San Andres \",magSAND,\"magnitud\",\"jet\",\"magnitudsanadres2013_modelo\",2013)\n",
    "\n"
   ]
  }
 ],
 "metadata": {
  "kernelspec": {
   "display_name": "Python 3",
   "language": "python",
   "name": "python3"
  },
  "language_info": {
   "codemirror_mode": {
    "name": "ipython",
    "version": 3
   },
   "file_extension": ".py",
   "mimetype": "text/x-python",
   "name": "python",
   "nbconvert_exporter": "python",
   "pygments_lexer": "ipython3",
   "version": "3.7.2"
  }
 },
 "nbformat": 4,
 "nbformat_minor": 2
}
