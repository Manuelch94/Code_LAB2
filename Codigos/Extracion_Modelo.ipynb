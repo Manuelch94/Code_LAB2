{
 "cells": [
  {
   "cell_type": "markdown",
   "metadata": {},
   "source": [
    "# Uso de WRF-Python para la extracción de variables:"
   ]
  },
  {
   "cell_type": "markdown",
   "metadata": {},
   "source": [
    "##  Laboratorio Avanzado 2. II Ciclo 2019\n",
    "### Manuel Chaves Alvarez.\n",
    "### Contacto: manuelczh@hotmail.com.ar"
   ]
  },
  {
   "cell_type": "markdown",
   "metadata": {},
   "source": [
    "La documentación completa de la librería puede ser encontrada en: https://wrf-python.readthedocs.io/en/latest/basic_usage.html\n",
    "\n"
   ]
  },
  {
   "cell_type": "markdown",
   "metadata": {},
   "source": [
    "### Se importan los modulos necesarios, mas adelante se detallara su uso, en los casos que su uso no sea obvio."
   ]
  },
  {
   "cell_type": "code",
   "execution_count": null,
   "metadata": {
    "scrolled": true
   },
   "outputs": [],
   "source": [
    "from __future__ import print_function\n",
    "from netCDF4 import Dataset, MFDataset\n",
    "from collections import OrderedDict\n",
    "from wrf import getvar, ALL_TIMES, interplevel, CoordPair, xy_to_ll, ll_to_xy, disable_xarray\n",
    "import numpy as np\n",
    "from numpy import shape\n",
    "import xarray as xr\n",
    "from calendar import monthrange\n",
    "import time\n",
    "import concurrent.futures\n",
    "from pathlib import Path"
   ]
  },
  {
   "cell_type": "code",
   "execution_count": null,
   "metadata": {},
   "outputs": [],
   "source": []
  },
  {
   "cell_type": "markdown",
   "metadata": {},
   "source": [
    "### Lectura de los paths de archivos de la base de datos CA-CORDEX\n",
    "\n",
    "Se itera sobre el sistema de archivos de la base de datos esto con el el fin de recuperar la direcciones de cada uno de las salidas del modelo, para este caso los dos años seleccionados 1981 y 2013, ademas se usan los comandos \"magicos\" %. \n",
    "\n",
    "``` python\n",
    "# condicion que limita a obtener salidas a las 12Z, en caso de no ser necesario \n",
    "# eliminar la linea por completo\n",
    "if \"12\"==content[i][22:24]\n",
    "```\n",
    "\n",
    "\n",
    "Nota: Las siguientes $\\textbf{dos celdas}$ pueden ser reemplazadas por un \"script de bash\" y luego ejecutada de nuevo usando los comandos magicos %."
   ]
  },
  {
   "cell_type": "code",
   "execution_count": null,
   "metadata": {
    "scrolled": true
   },
   "outputs": [],
   "source": [
    "año1 = '1981'\n",
    "año2 = '2013'\n",
    "meses=['01','02','03','04','05','06','07','08','09','10','11','12']"
   ]
  },
  {
   "cell_type": "code",
   "execution_count": null,
   "metadata": {},
   "outputs": [],
   "source": [
    "## La direccion de CA-CORDEX es la existente para la fecha de realizacion de este documento\n",
    "## y podra variar de acuerdo al centro.\n",
    "\n",
    "%cd /storage/nfs/CA-CORDEX/$año2\n",
    "for i in ['01','02','03','04','05','06','07','08','09','10','11','12']:\n",
    "    %cd /storage/nfs/CA-CORDEX/$año2/$i\n",
    "    %ls >> /home/cigefi/$año2\n",
    "    %cd ..\n",
    "    \n",
    "%cd\n",
    "with open(año2) as f:\n",
    "    content = f.readlines()\n",
    "\n",
    "## Se eliminan los cambios de linea\n",
    "content = [x.strip() for x in content] \n",
    "nclist=[]\n",
    "## Se seleccionan aquellas direcciones cuya salida sea a las 12Z\n",
    "## [22:24] es donde se encuentra la hora de la salida en el string de content[i]\n",
    "nclist.append([content[i] for i in np.arange(len(content)) if \"12\"==content[i][22:24]])    \n",
    "\n",
    "## fill, almacena las direcciones de todos los archvos\n",
    "fill = np.zeros(365, dtype=object)   \n",
    "dataset_list = []\n",
    "days =[]\n",
    "for k in np.arange(1,13):\n",
    "    # la eleccion del año 1982 es indiferente mientras se cumpla que el año NO SEA bisiesto\n",
    "    \n",
    "    num_days = monthrange(1982, k)[1] \n",
    "    days.append(num_days)\n",
    "\n",
    "array = np.array([days,meses])    \n",
    "for i in np.arange(0,365):\n",
    "    mes = nclist[0][i][16:18]\n",
    "    %cd /storage/nfs/CA-CORDEX/$año2/$mes\n",
    "    fill[i]=str(Path(nclist[0][i]).absolute())"
   ]
  },
  {
   "cell_type": "markdown",
   "metadata": {},
   "source": [
    "## Extraccion de variables del set de datos"
   ]
  },
  {
   "cell_type": "markdown",
   "metadata": {},
   "source": [
    "#### Por medio de loop and fill (ver documentación en la sección de PERFOMANCE TIPS)\n",
    "#### Estaciones: Barbados, Guadalupe, San Andres.\n",
    "\n",
    "Aquí se define la función: \n",
    "``` python \n",
    "def extrac_var_dynamics(var,station,var2,station2,a,b) \n",
    "``` \n",
    "Cada uno de sus argumentos (listas) definidos de la forma: \n",
    "\n",
    "\n",
    "**var** y **var2**: la variable que se quiera extraer de acuerdo a la documentación de wrf-python, se definen de forma separada (con unidades a escoger **var**, unidades por defecto **var2**), ya que **getvar** tiene argumentos específicos en cuanto a unidades.\n",
    "\n",
    "**station** y **station2**: nombre de salidas de las variables dadas por var y var2 respectivamente.\n",
    "\n",
    "\n",
    "**a y b**: puntos de grilla más cercanos a las estaciones.\n",
    "\n",
    "**NOTA 1:** el *len()* de los argumentos **IMPORTA** todos tienen que tener la misma dimensión\n",
    "si se deseara cambiar se debe de tomar en cuenta lo anterior.\n",
    "\n",
    "**NOTA 2:** los archivos de salida están en formato **.npy**\n",
    "\n",
    "**NOTA 3:** Para las 3 estaciones con sus 6 variables (1 TB de información, interpoladas a 14 niveles de presión) para 1 año, el tiempo aproximado de ejecución es de 2 horas (Usando 4 núcleos). \n"
   ]
  },
  {
   "cell_type": "code",
   "execution_count": null,
   "metadata": {
    "scrolled": true
   },
   "outputs": [],
   "source": [
    "# de acuerdo a donde queira guradar los datos.\n",
    "%cd\n",
    "%cd Escritorio/"
   ]
  },
  {
   "cell_type": "code",
   "execution_count": null,
   "metadata": {
    "scrolled": true
   },
   "outputs": [],
   "source": [
    "from __future__ import print_function, division"
   ]
  },
  {
   "cell_type": "code",
   "execution_count": null,
   "metadata": {
    "scrolled": true
   },
   "outputs": [],
   "source": [
    "#esto elimina el metadato que se extare en cada variable, ahorra memoria.\n",
    "disable_xarray()\n",
    "\n",
    "#niveles de presion deseados para la interpolacion\n",
    "lista = [1000.0, 925.0, 850.0, 700.0, 500.0, 400.0, 300.0, 250.0, 200.0, 150.0, 100.0, 70.0, 50.0,10.0]\n",
    "\n",
    "#puntos de grilla mas cercanos\n",
    "grid = [[84,219],[93,286],[79,213]]\n",
    "grid_points = np.array(grid +grid)\n",
    "\n",
    "station=['zonalBARB','zonalGUAD','zonalSAND','meridionalBARB','meridionalGUAD','meridionalSAND']\n",
    "#variables de veitnp zonal y meridional\n",
    "var=['ua','ua','ua','va','va','va']\n",
    "\n",
    "station2=['qBARB','qGUAD','qSAND','temperaturaBARB','temperaturaGUAD','temperaturaSAND']\n",
    "#variables de temperatura y QVAPOR\n",
    "var2=['QVAPOR','QVAPOR','QVAPOR','tc','tc','tc']"
   ]
  },
  {
   "cell_type": "code",
   "execution_count": null,
   "metadata": {},
   "outputs": [],
   "source": [
    "def extrac_var_dynamics(var,station,var2,station2,a,b):\n",
    "\n",
    "    filename_list = fill\n",
    "    # 14 niveles de presion por 365 dias del año\n",
    "    result_shape  = (14,365)\n",
    "    print(fill[0][42:46])\n",
    "    # se crean arrays vacios con el fin de llenarlos con los datos que se extraen\n",
    "    var_temp  = np.empty(result_shape, np.float32)\n",
    "    var_temp2 = np.empty(result_shape, np.float32)\n",
    "    print(station,var,\"........processing\")\n",
    "    print(station2,var2,\"........processing\")\n",
    "    times_per_file = 1\n",
    "    \n",
    "    for timeidx in range(result_shape[1]):\n",
    "        \n",
    "        fileidx = timeidx // times_per_file\n",
    "        file_timeidx = timeidx % times_per_file\n",
    "        #extraccion de las variables\n",
    "        f = Dataset(filename_list[fileidx])\n",
    "        pres = getvar(f, \"pressure\", file_timeidx, method='cat')\n",
    "        temp = getvar(f, var, file_timeidx, units= \"m s-1\", method='cat')\n",
    "        temp2 = getvar(f, var2, file_timeidx, method='cat')\n",
    "        \n",
    "        #interpolacion al punto de presion\n",
    "        for i,values in enumerate(lista):\n",
    "            \n",
    "            inter_var_temp = interplevel(temp,pres,values,meta=False)[a,b]\n",
    "            var_temp[i,timeidx]  = inter_var_temp\n",
    "            \n",
    "            inter_var_temp2 = interplevel(temp2,pres,values,meta=False)[a,b]\n",
    "            var_temp2[i,timeidx]  = inter_var_temp2\n",
    "            \n",
    "        f.close()\n",
    "    #se guaradn los datos con el nombre de la variable\n",
    "    np.save(station+fill[0][42:46]+'.npy',var_temp)\n",
    "    np.save(station2+fill[0][42:46]+'.npy',var_temp2)"
   ]
  },
  {
   "cell_type": "code",
   "execution_count": null,
   "metadata": {},
   "outputs": [],
   "source": [
    "# Se ejecuta de forma paralela la funcion\n",
    "t1 = time.perf_counter()\n",
    "#se debe sustituir para un iterador sobre fill la variable que contiene las direcciones.\n",
    "for i in np.arange(2,11):\n",
    "    fill = itemlist[365*(i-1):365*i]\n",
    "    with concurrent.futures.ProcessPoolExecutor() as exe:\n",
    "        exe.map(extrac_var_dynamics,var,station,var2,station2,grid_points[:,0],grid_points[:,1])\n",
    "        \n",
    "t2=time.perf_counter()\n",
    "print(\"Tiempo total de exe....\"+str(t2-t1))"
   ]
  }
 ],
 "metadata": {
  "kernelspec": {
   "display_name": "Python 3",
   "language": "python",
   "name": "python3"
  },
  "language_info": {
   "codemirror_mode": {
    "name": "ipython",
    "version": 3
   },
   "file_extension": ".py",
   "mimetype": "text/x-python",
   "name": "python",
   "nbconvert_exporter": "python",
   "pygments_lexer": "ipython3",
   "version": "3.7.2"
  }
 },
 "nbformat": 4,
 "nbformat_minor": 2
}
